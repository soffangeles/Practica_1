{
  "nbformat": 4,
  "nbformat_minor": 0,
  "metadata": {
    "colab": {
      "provenance": []
    },
    "kernelspec": {
      "name": "python3",
      "display_name": "Python 3"
    },
    "language_info": {
      "name": "python"
    }
  },
  "cells": [
    {
      "cell_type": "code",
      "execution_count": null,
      "metadata": {
        "id": "8DRtKqc1M664",
        "outputId": "41e6d3df-d7f1-44cc-fd96-d3ae608b705e",
        "colab": {
          "base_uri": "https://localhost:8080/"
        }
      },
      "outputs": [
        {
          "output_type": "stream",
          "name": "stdout",
          "text": [
            "Ingresa una cadena de paréntesis: Ahdjaj()\n",
            "True.\n"
          ]
        }
      ],
      "source": [
        "\"\"\"\n",
        "Práctica 1. Validación de paréntesis bien formados en una cadena.\n",
        "\n",
        "Este programa verifica si una cadena de paréntesis está bien formada\n",
        "usando una pila.\n",
        "\n",
        "Autor: Angeles Rojo Sofia.\n",
        "Fecha: 06/03/2024\n",
        "\n",
        "\"\"\"\n",
        "\n",
        "def buscar_parentesis(cadena):\n",
        "\n",
        "  \"\"\"\n",
        "  Se define la función, la cual recibe una cadena como parámetro y\n",
        "  devuelve un booleano.\n",
        "\n",
        "  \"\"\"\n",
        "\n",
        "  pila = []\n",
        "  for caracter in cadena:\n",
        "    if caracter == '(':\n",
        "      pila.append(caracter)\n",
        "    elif caracter == ')':\n",
        "      if not pila:\n",
        "        return False\n",
        "      else:\n",
        "        tope = pila.pop() #Quita y devuelve el elemento del tope.\n",
        "        if tope != '(': #Verifica si dos elementos son iguales o no.\n",
        "        # El != compara si dos cosas son diferentes.\n",
        "          return False\n",
        "\n",
        "  if not pila:\n",
        "    return True\n",
        "  else:\n",
        "    return False\n",
        "\n",
        "\n",
        "if __name__ == '__main__':\n",
        "\n",
        "  \"\"\"\n",
        "  Este bloque del código pide al usuario que ingrese una cadena de\n",
        "  paréntesis y le indica si está bien formada o no, explicando el\n",
        "  motivo del error en caso de ser inválida.\n",
        "\n",
        "  \"\"\"\n",
        "\n",
        "  cadena = input(\"Ingresa una cadena de paréntesis: \")\n",
        "\n",
        "  resultado = buscar_parentesis(cadena)\n",
        "\n",
        "  if resultado:\n",
        "    print(\"True.\")\n",
        "  else:\n",
        "    print(\"False.\")\n",
        "\n",
        "    if not cadena:\n",
        "      print(\"La cadena está vacía.\")\n",
        "    elif cadena[0] == ')':\n",
        "      print(\"La cadena empieza con un paréntesis cerrado.\")\n",
        "    elif cadena[-1] == '(':\n",
        "      print(\"La cadena termina con un paréntesis abierto.\")\n",
        "    else:\n",
        "      print(\"La cadena tiene paréntesis desbalanceados.\")"
      ]
    }
  ]
}